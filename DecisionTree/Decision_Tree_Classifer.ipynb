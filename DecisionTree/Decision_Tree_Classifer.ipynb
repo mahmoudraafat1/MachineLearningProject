{
  "nbformat": 4,
  "nbformat_minor": 0,
  "metadata": {
    "colab": {
      "provenance": []
    },
    "kernelspec": {
      "name": "python3",
      "display_name": "Python 3"
    },
    "language_info": {
      "name": "python"
    }
  },
  "cells": [
    {
      "cell_type": "code",
      "execution_count": 17,
      "metadata": {
        "id": "RIYtVSFOG_r5"
      },
      "outputs": [],
      "source": [
        "import pandas as pd\n",
        "from sklearn.tree import DecisionTreeClassifier\n",
        "from sklearn.model_selection import train_test_split, GridSearchCV\n",
        "from sklearn import metrics"
      ]
    },
    {
      "cell_type": "code",
      "source": [
        "df = pd.read_csv('/content/data.csv')"
      ],
      "metadata": {
        "id": "ohw08OlhJG_6"
      },
      "execution_count": 2,
      "outputs": []
    },
    {
      "cell_type": "code",
      "source": [
        "df.shape"
      ],
      "metadata": {
        "colab": {
          "base_uri": "https://localhost:8080/"
        },
        "id": "Z8HfxhARJOCA",
        "outputId": "848b4b61-ff31-48c6-ee28-d9ecc1767756"
      },
      "execution_count": 3,
      "outputs": [
        {
          "output_type": "execute_result",
          "data": {
            "text/plain": [
              "(569, 32)"
            ]
          },
          "metadata": {},
          "execution_count": 3
        }
      ]
    },
    {
      "cell_type": "code",
      "source": [
        "df.head"
      ],
      "metadata": {
        "colab": {
          "base_uri": "https://localhost:8080/"
        },
        "id": "2Y-zPcpaJUOQ",
        "outputId": "2e483471-73cc-48f1-a368-fc5af2287a92"
      },
      "execution_count": 6,
      "outputs": [
        {
          "output_type": "execute_result",
          "data": {
            "text/plain": [
              "<bound method NDFrame.head of            ID DIAGNOSIS  RADIUS_MEAN  TEXTURE_MEAN  PERIMETER_MEAN  AREA_MEAN  \\\n",
              "0      842302         M        17.99         10.38          122.80     1001.0   \n",
              "1      842517         M        20.57         17.77          132.90     1326.0   \n",
              "2    84300903         M        19.69         21.25          130.00     1203.0   \n",
              "3    84348301         M        11.42         20.38           77.58      386.1   \n",
              "4    84358402         M        20.29         14.34          135.10     1297.0   \n",
              "..        ...       ...          ...           ...             ...        ...   \n",
              "564    926424         M        21.56         22.39          142.00     1479.0   \n",
              "565    926682         M        20.13         28.25          131.20     1261.0   \n",
              "566    926954         M        16.60         28.08          108.30      858.1   \n",
              "567    927241         M        20.60         29.33          140.10     1265.0   \n",
              "568     92751         B         7.76         24.54           47.92      181.0   \n",
              "\n",
              "     SMOOTHNESS_MEAN  COMPACTNESS_MEAN  CONCAVITY_MEAN  CONCAVE POINTS_MEAN  \\\n",
              "0            0.11840           0.27760         0.30010              0.14710   \n",
              "1            0.08474           0.07864         0.08690              0.07017   \n",
              "2            0.10960           0.15990         0.19740              0.12790   \n",
              "3            0.14250           0.28390         0.24140              0.10520   \n",
              "4            0.10030           0.13280         0.19800              0.10430   \n",
              "..               ...               ...             ...                  ...   \n",
              "564          0.11100           0.11590         0.24390              0.13890   \n",
              "565          0.09780           0.10340         0.14400              0.09791   \n",
              "566          0.08455           0.10230         0.09251              0.05302   \n",
              "567          0.11780           0.27700         0.35140              0.15200   \n",
              "568          0.05263           0.04362         0.00000              0.00000   \n",
              "\n",
              "     ...  RADIUS_WORST  TEXTURE_WORST  PERIMETER_WORST  AREA_WORST  \\\n",
              "0    ...        25.380          17.33           184.60      2019.0   \n",
              "1    ...        24.990          23.41           158.80      1956.0   \n",
              "2    ...        23.570          25.53           152.50      1709.0   \n",
              "3    ...        14.910          26.50            98.87       567.7   \n",
              "4    ...        22.540          16.67           152.20      1575.0   \n",
              "..   ...           ...            ...              ...         ...   \n",
              "564  ...        25.450          26.40           166.10      2027.0   \n",
              "565  ...        23.690          38.25           155.00      1731.0   \n",
              "566  ...        18.980          34.12           126.70      1124.0   \n",
              "567  ...        25.740          39.42           184.60      1821.0   \n",
              "568  ...         9.456          30.37            59.16       268.6   \n",
              "\n",
              "     SMOOTHNESS_WORST  COMPACTNESS_WORST  CONCAVITY_WORST  \\\n",
              "0             0.16220            0.66560           0.7119   \n",
              "1             0.12380            0.18660           0.2416   \n",
              "2             0.14440            0.42450           0.4504   \n",
              "3             0.20980            0.86630           0.6869   \n",
              "4             0.13740            0.20500           0.4000   \n",
              "..                ...                ...              ...   \n",
              "564           0.14100            0.21130           0.4107   \n",
              "565           0.11660            0.19220           0.3215   \n",
              "566           0.11390            0.30940           0.3403   \n",
              "567           0.16500            0.86810           0.9387   \n",
              "568           0.08996            0.06444           0.0000   \n",
              "\n",
              "     CONCAVE POINTS_WORST  SYMMETRY_WORST  FRACTAL_DIMENSION_WORST  \n",
              "0                  0.2654          0.4601                  0.11890  \n",
              "1                  0.1860          0.2750                  0.08902  \n",
              "2                  0.2430          0.3613                  0.08758  \n",
              "3                  0.2575          0.6638                  0.17300  \n",
              "4                  0.1625          0.2364                  0.07678  \n",
              "..                    ...             ...                      ...  \n",
              "564                0.2216          0.2060                  0.07115  \n",
              "565                0.1628          0.2572                  0.06637  \n",
              "566                0.1418          0.2218                  0.07820  \n",
              "567                0.2650          0.4087                  0.12400  \n",
              "568                0.0000          0.2871                  0.07039  \n",
              "\n",
              "[569 rows x 32 columns]>"
            ]
          },
          "metadata": {},
          "execution_count": 6
        }
      ]
    },
    {
      "cell_type": "code",
      "source": [
        "X = df.drop(['ID', 'DIAGNOSIS'], axis=1)\n",
        "y = df['DIAGNOSIS'].map({'M': 1, 'B': 0})"
      ],
      "metadata": {
        "id": "MhDYyveKJXWQ"
      },
      "execution_count": 7,
      "outputs": []
    },
    {
      "cell_type": "code",
      "source": [
        "X_train , X_test, y_train, y_test= train_test_split(X,y,test_size=0.2, random_state=1)"
      ],
      "metadata": {
        "id": "V4QBUzraMoHX"
      },
      "execution_count": 11,
      "outputs": []
    },
    {
      "cell_type": "code",
      "source": [
        "print(X_train)"
      ],
      "metadata": {
        "colab": {
          "base_uri": "https://localhost:8080/"
        },
        "id": "GvEu7aH_MuQP",
        "outputId": "a6aab079-a383-4db6-fc77-2553ef781c41"
      },
      "execution_count": 13,
      "outputs": [
        {
          "output_type": "stream",
          "name": "stdout",
          "text": [
            "     RADIUS_MEAN  TEXTURE_MEAN  PERIMETER_MEAN  AREA_MEAN  SMOOTHNESS_MEAN  \\\n",
            "408        17.99         20.66          117.80      991.7          0.10360   \n",
            "4          20.29         14.34          135.10     1297.0          0.10030   \n",
            "307         9.00         14.40           56.36      246.3          0.07005   \n",
            "386        12.21         14.09           78.78      462.0          0.08108   \n",
            "404        12.34         14.95           78.29      469.1          0.08682   \n",
            "..           ...           ...             ...        ...              ...   \n",
            "129        19.79         25.12          130.40     1192.0          0.10150   \n",
            "144        10.75         14.97           68.26      355.3          0.07793   \n",
            "72         17.20         24.52          114.20      929.4          0.10710   \n",
            "235        14.03         21.25           89.79      603.4          0.09070   \n",
            "37         13.03         18.42           82.61      523.8          0.08983   \n",
            "\n",
            "     COMPACTNESS_MEAN  CONCAVITY_MEAN  CONCAVE POINTS_MEAN  SYMMETRY_MEAN  \\\n",
            "408           0.13040        0.120100             0.088240         0.1992   \n",
            "4             0.13280        0.198000             0.104300         0.1809   \n",
            "307           0.03116        0.003681             0.003472         0.1788   \n",
            "386           0.07823        0.068390             0.025340         0.1646   \n",
            "404           0.04571        0.021090             0.020540         0.1571   \n",
            "..                ...             ...                  ...            ...   \n",
            "129           0.15890        0.254500             0.114900         0.2202   \n",
            "144           0.05139        0.022510             0.007875         0.1399   \n",
            "72            0.18300        0.169200             0.079440         0.1927   \n",
            "235           0.06945        0.014620             0.018960         0.1517   \n",
            "37            0.03766        0.025620             0.029230         0.1467   \n",
            "\n",
            "     FRACTAL_DIMENSION_MEAN  ...  RADIUS_WORST  TEXTURE_WORST  \\\n",
            "408                 0.06069  ...        21.080          25.41   \n",
            "4                   0.05883  ...        22.540          16.67   \n",
            "307                 0.06833  ...         9.699          20.07   \n",
            "386                 0.06154  ...        13.130          19.29   \n",
            "404                 0.05708  ...        13.180          16.85   \n",
            "..                      ...  ...           ...            ...   \n",
            "129                 0.06113  ...        22.630          33.58   \n",
            "144                 0.05688  ...        11.950          20.72   \n",
            "72                  0.06487  ...        23.320          33.82   \n",
            "235                 0.05835  ...        15.330          30.28   \n",
            "37                  0.05863  ...        13.300          22.81   \n",
            "\n",
            "     PERIMETER_WORST  AREA_WORST  SMOOTHNESS_WORST  COMPACTNESS_WORST  \\\n",
            "408           138.10      1349.0           0.14820            0.37350   \n",
            "4             152.20      1575.0           0.13740            0.20500   \n",
            "307            60.90       285.5           0.09861            0.05232   \n",
            "386            87.65       529.9           0.10260            0.24310   \n",
            "404            84.11       533.1           0.10480            0.06744   \n",
            "..               ...         ...               ...                ...   \n",
            "129           148.70      1589.0           0.12750            0.38610   \n",
            "144            77.79       441.2           0.10760            0.12230   \n",
            "72            151.60      1681.0           0.15850            0.73940   \n",
            "235            98.27       715.5           0.12870            0.15130   \n",
            "37             84.46       545.9           0.09701            0.04619   \n",
            "\n",
            "     CONCAVITY_WORST  CONCAVE POINTS_WORST  SYMMETRY_WORST  \\\n",
            "408          0.33010               0.19740          0.3060   \n",
            "4            0.40000               0.16250          0.2364   \n",
            "307          0.01472               0.01389          0.2991   \n",
            "386          0.30760               0.09140          0.2677   \n",
            "404          0.04921               0.04793          0.2298   \n",
            "..               ...                   ...             ...   \n",
            "129          0.56730               0.17320          0.3305   \n",
            "144          0.09755               0.03413          0.2300   \n",
            "72           0.65660               0.18990          0.3313   \n",
            "235          0.06231               0.07963          0.2226   \n",
            "37           0.04833               0.05013          0.1987   \n",
            "\n",
            "     FRACTAL_DIMENSION_WORST  \n",
            "408                  0.08503  \n",
            "4                    0.07678  \n",
            "307                  0.07804  \n",
            "386                  0.08824  \n",
            "404                  0.05974  \n",
            "..                       ...  \n",
            "129                  0.08465  \n",
            "144                  0.06769  \n",
            "72                   0.13390  \n",
            "235                  0.07617  \n",
            "37                   0.06169  \n",
            "\n",
            "[455 rows x 30 columns]\n"
          ]
        }
      ]
    },
    {
      "cell_type": "code",
      "source": [
        "clf = DecisionTreeClassifier()"
      ],
      "metadata": {
        "id": "RhYpBll9M6fY"
      },
      "execution_count": 14,
      "outputs": []
    },
    {
      "cell_type": "code",
      "source": [
        "param_grid = {'max_depth':[2,4,6,8,10], 'min_samples_split': [2,4,6]}"
      ],
      "metadata": {
        "id": "EP3xGuMfNXDS"
      },
      "execution_count": 15,
      "outputs": []
    },
    {
      "cell_type": "code",
      "source": [
        "grid_search = GridSearchCV(estimator = clf, param_grid = param_grid)"
      ],
      "metadata": {
        "id": "7Ov3MVttNpGq"
      },
      "execution_count": 18,
      "outputs": []
    },
    {
      "cell_type": "code",
      "source": [
        "grid_search.fit(X_train, y_train)"
      ],
      "metadata": {
        "colab": {
          "base_uri": "https://localhost:8080/",
          "height": 118
        },
        "id": "q7hGxQoGOGsY",
        "outputId": "da47b56c-0093-4bff-ba6f-113b06d32ffe"
      },
      "execution_count": 20,
      "outputs": [
        {
          "output_type": "execute_result",
          "data": {
            "text/plain": [
              "GridSearchCV(estimator=DecisionTreeClassifier(),\n",
              "             param_grid={'max_depth': [2, 4, 6, 8, 10],\n",
              "                         'min_samples_split': [2, 4, 6]})"
            ],
            "text/html": [
              "<style>#sk-container-id-1 {color: black;background-color: white;}#sk-container-id-1 pre{padding: 0;}#sk-container-id-1 div.sk-toggleable {background-color: white;}#sk-container-id-1 label.sk-toggleable__label {cursor: pointer;display: block;width: 100%;margin-bottom: 0;padding: 0.3em;box-sizing: border-box;text-align: center;}#sk-container-id-1 label.sk-toggleable__label-arrow:before {content: \"▸\";float: left;margin-right: 0.25em;color: #696969;}#sk-container-id-1 label.sk-toggleable__label-arrow:hover:before {color: black;}#sk-container-id-1 div.sk-estimator:hover label.sk-toggleable__label-arrow:before {color: black;}#sk-container-id-1 div.sk-toggleable__content {max-height: 0;max-width: 0;overflow: hidden;text-align: left;background-color: #f0f8ff;}#sk-container-id-1 div.sk-toggleable__content pre {margin: 0.2em;color: black;border-radius: 0.25em;background-color: #f0f8ff;}#sk-container-id-1 input.sk-toggleable__control:checked~div.sk-toggleable__content {max-height: 200px;max-width: 100%;overflow: auto;}#sk-container-id-1 input.sk-toggleable__control:checked~label.sk-toggleable__label-arrow:before {content: \"▾\";}#sk-container-id-1 div.sk-estimator input.sk-toggleable__control:checked~label.sk-toggleable__label {background-color: #d4ebff;}#sk-container-id-1 div.sk-label input.sk-toggleable__control:checked~label.sk-toggleable__label {background-color: #d4ebff;}#sk-container-id-1 input.sk-hidden--visually {border: 0;clip: rect(1px 1px 1px 1px);clip: rect(1px, 1px, 1px, 1px);height: 1px;margin: -1px;overflow: hidden;padding: 0;position: absolute;width: 1px;}#sk-container-id-1 div.sk-estimator {font-family: monospace;background-color: #f0f8ff;border: 1px dotted black;border-radius: 0.25em;box-sizing: border-box;margin-bottom: 0.5em;}#sk-container-id-1 div.sk-estimator:hover {background-color: #d4ebff;}#sk-container-id-1 div.sk-parallel-item::after {content: \"\";width: 100%;border-bottom: 1px solid gray;flex-grow: 1;}#sk-container-id-1 div.sk-label:hover label.sk-toggleable__label {background-color: #d4ebff;}#sk-container-id-1 div.sk-serial::before {content: \"\";position: absolute;border-left: 1px solid gray;box-sizing: border-box;top: 0;bottom: 0;left: 50%;z-index: 0;}#sk-container-id-1 div.sk-serial {display: flex;flex-direction: column;align-items: center;background-color: white;padding-right: 0.2em;padding-left: 0.2em;position: relative;}#sk-container-id-1 div.sk-item {position: relative;z-index: 1;}#sk-container-id-1 div.sk-parallel {display: flex;align-items: stretch;justify-content: center;background-color: white;position: relative;}#sk-container-id-1 div.sk-item::before, #sk-container-id-1 div.sk-parallel-item::before {content: \"\";position: absolute;border-left: 1px solid gray;box-sizing: border-box;top: 0;bottom: 0;left: 50%;z-index: -1;}#sk-container-id-1 div.sk-parallel-item {display: flex;flex-direction: column;z-index: 1;position: relative;background-color: white;}#sk-container-id-1 div.sk-parallel-item:first-child::after {align-self: flex-end;width: 50%;}#sk-container-id-1 div.sk-parallel-item:last-child::after {align-self: flex-start;width: 50%;}#sk-container-id-1 div.sk-parallel-item:only-child::after {width: 0;}#sk-container-id-1 div.sk-dashed-wrapped {border: 1px dashed gray;margin: 0 0.4em 0.5em 0.4em;box-sizing: border-box;padding-bottom: 0.4em;background-color: white;}#sk-container-id-1 div.sk-label label {font-family: monospace;font-weight: bold;display: inline-block;line-height: 1.2em;}#sk-container-id-1 div.sk-label-container {text-align: center;}#sk-container-id-1 div.sk-container {/* jupyter's `normalize.less` sets `[hidden] { display: none; }` but bootstrap.min.css set `[hidden] { display: none !important; }` so we also need the `!important` here to be able to override the default hidden behavior on the sphinx rendered scikit-learn.org. See: https://github.com/scikit-learn/scikit-learn/issues/21755 */display: inline-block !important;position: relative;}#sk-container-id-1 div.sk-text-repr-fallback {display: none;}</style><div id=\"sk-container-id-1\" class=\"sk-top-container\"><div class=\"sk-text-repr-fallback\"><pre>GridSearchCV(estimator=DecisionTreeClassifier(),\n",
              "             param_grid={&#x27;max_depth&#x27;: [2, 4, 6, 8, 10],\n",
              "                         &#x27;min_samples_split&#x27;: [2, 4, 6]})</pre><b>In a Jupyter environment, please rerun this cell to show the HTML representation or trust the notebook. <br />On GitHub, the HTML representation is unable to render, please try loading this page with nbviewer.org.</b></div><div class=\"sk-container\" hidden><div class=\"sk-item sk-dashed-wrapped\"><div class=\"sk-label-container\"><div class=\"sk-label sk-toggleable\"><input class=\"sk-toggleable__control sk-hidden--visually\" id=\"sk-estimator-id-1\" type=\"checkbox\" ><label for=\"sk-estimator-id-1\" class=\"sk-toggleable__label sk-toggleable__label-arrow\">GridSearchCV</label><div class=\"sk-toggleable__content\"><pre>GridSearchCV(estimator=DecisionTreeClassifier(),\n",
              "             param_grid={&#x27;max_depth&#x27;: [2, 4, 6, 8, 10],\n",
              "                         &#x27;min_samples_split&#x27;: [2, 4, 6]})</pre></div></div></div><div class=\"sk-parallel\"><div class=\"sk-parallel-item\"><div class=\"sk-item\"><div class=\"sk-label-container\"><div class=\"sk-label sk-toggleable\"><input class=\"sk-toggleable__control sk-hidden--visually\" id=\"sk-estimator-id-2\" type=\"checkbox\" ><label for=\"sk-estimator-id-2\" class=\"sk-toggleable__label sk-toggleable__label-arrow\">estimator: DecisionTreeClassifier</label><div class=\"sk-toggleable__content\"><pre>DecisionTreeClassifier()</pre></div></div></div><div class=\"sk-serial\"><div class=\"sk-item\"><div class=\"sk-estimator sk-toggleable\"><input class=\"sk-toggleable__control sk-hidden--visually\" id=\"sk-estimator-id-3\" type=\"checkbox\" ><label for=\"sk-estimator-id-3\" class=\"sk-toggleable__label sk-toggleable__label-arrow\">DecisionTreeClassifier</label><div class=\"sk-toggleable__content\"><pre>DecisionTreeClassifier()</pre></div></div></div></div></div></div></div></div></div></div>"
            ]
          },
          "metadata": {},
          "execution_count": 20
        }
      ]
    },
    {
      "cell_type": "code",
      "source": [
        "clf = DecisionTreeClassifier(max_depth = grid_search.best_params_['max_depth'], min_samples_split= grid_search.best_params_['min_samples_split'])"
      ],
      "metadata": {
        "id": "sqa1cFkvOQOr"
      },
      "execution_count": 21,
      "outputs": []
    },
    {
      "cell_type": "code",
      "source": [
        "clf = clf.fit(X_train, y_train)"
      ],
      "metadata": {
        "id": "57rMk3IRPFoA"
      },
      "execution_count": 22,
      "outputs": []
    },
    {
      "cell_type": "code",
      "source": [
        "y_pred = clf.predict(X_test)"
      ],
      "metadata": {
        "id": "xA-YttxYPMzH"
      },
      "execution_count": 23,
      "outputs": []
    },
    {
      "cell_type": "code",
      "source": [
        "print ('Accuracy:', metrics.accuracy_score(y_test , y_pred))\n",
        "print ('Precision:', metrics.precision_score(y_test , y_pred))\n",
        "print ('Recall:', metrics.recall_score(y_test , y_pred))\n",
        "print ('F1 Score:', metrics.f1_score(y_test , y_pred))"
      ],
      "metadata": {
        "colab": {
          "base_uri": "https://localhost:8080/"
        },
        "id": "m1OvBe5hPUko",
        "outputId": "aa033e40-6cc1-4a2f-bd60-5f176b2c5fb4"
      },
      "execution_count": 26,
      "outputs": [
        {
          "output_type": "stream",
          "name": "stdout",
          "text": [
            "Accuracy: 0.9385964912280702\n",
            "Precision: 0.9487179487179487\n",
            "Recall: 0.8809523809523809\n",
            "F1 Score: 0.9135802469135802\n"
          ]
        }
      ]
    }
  ]
}